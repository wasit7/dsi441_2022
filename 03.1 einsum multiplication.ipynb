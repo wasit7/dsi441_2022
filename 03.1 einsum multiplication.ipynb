{
 "cells": [
  {
   "cell_type": "markdown",
   "id": "261a9220",
   "metadata": {},
   "source": [
    "## Matrix Multriplication\n",
    "\n",
    "Let A, B is matrices and C is a product of A and B\n",
    "\n",
    "$\\begin{eqnarray*}\n",
    "\\begin{bmatrix}\n",
    "c_{1,1} & c_{1,2} & c_{1,3} \\\\\n",
    "c_{2,1} & c_{2,2} & c_{2,3} \\\\\n",
    "\\end{bmatrix}\n",
    "&=&\n",
    "\\begin{bmatrix}\n",
    "a_{1,1} & a_{1,2}& a_{1,3} & a_{1,4}\\\\\n",
    "a_{2,1} & a_{2,2}& a_{2,3} & a_{2,4}\\\\\n",
    "\\end{bmatrix}\n",
    "\\begin{bmatrix}\n",
    "b_{1,1} & b_{1,2} & b_{1,3} \\\\\n",
    "b_{2,1} & b_{2,2} & b_{2,3} \\\\\n",
    "b_{3,1} & b_{3,2} & b_{3,3} \\\\\n",
    "b_{4,1} & b_{4,2} & b_{4,3} \\\\\n",
    "\\end{bmatrix}\\\\\n",
    "\\end{eqnarray*}$\n",
    "\n",
    "$\\begin{eqnarray*}\n",
    "C &=&AB\\\\\n",
    "c_{i,j}&=&\\sum_k a_{i,k}b_{k,j}\\\\\n",
    "\\end{eqnarray*}$"
   ]
  },
  {
   "cell_type": "code",
   "execution_count": 1,
   "id": "f7c0369c",
   "metadata": {},
   "outputs": [],
   "source": [
    "import numpy as np\n",
    "ni=20\n",
    "nj=30\n",
    "nk=40"
   ]
  },
  {
   "cell_type": "code",
   "execution_count": 2,
   "id": "7415d932",
   "metadata": {},
   "outputs": [
    {
     "name": "stdout",
     "output_type": "stream",
     "text": [
      "11.6 ms ± 500 µs per loop (mean ± std. dev. of 7 runs, 10 loops each)\n"
     ]
    }
   ],
   "source": [
    "%%timeit -n10\n",
    "a=np.random.rand(ni,nk)\n",
    "b=np.random.rand(nk,nj)\n",
    "c=np.zeros(shape=[ni,nj])\n",
    "for i in range(ni):\n",
    "    for j in range(nj):\n",
    "        c[i,j]=0\n",
    "        for k in range(nk):\n",
    "            c[i,j]=c[i,j]+a[i,k]*b[k,j]"
   ]
  },
  {
   "cell_type": "code",
   "execution_count": 3,
   "id": "f3246914",
   "metadata": {},
   "outputs": [
    {
     "name": "stdout",
     "output_type": "stream",
     "text": [
      "44.6 µs ± 21.3 µs per loop (mean ± std. dev. of 7 runs, 10 loops each)\n"
     ]
    }
   ],
   "source": [
    "%%timeit -n10\n",
    "a=np.random.rand(ni,nk)\n",
    "b=np.random.rand(nk,nj)\n",
    "c=a@b"
   ]
  },
  {
   "cell_type": "code",
   "execution_count": 4,
   "id": "4a4c61b1",
   "metadata": {},
   "outputs": [
    {
     "name": "stdout",
     "output_type": "stream",
     "text": [
      "158 µs ± 61.1 µs per loop (mean ± std. dev. of 7 runs, 10 loops each)\n"
     ]
    }
   ],
   "source": [
    "%%timeit -n10\n",
    "a=np.random.rand(ni,nk)\n",
    "b=np.random.rand(nk,nj)\n",
    "c=np.einsum('ik,kj->ij',a,b)"
   ]
  },
  {
   "cell_type": "code",
   "execution_count": null,
   "id": "9e8d66be",
   "metadata": {},
   "outputs": [],
   "source": []
  }
 ],
 "metadata": {
  "kernelspec": {
   "display_name": "Python 3 (ipykernel)",
   "language": "python",
   "name": "python3"
  },
  "language_info": {
   "codemirror_mode": {
    "name": "ipython",
    "version": 3
   },
   "file_extension": ".py",
   "mimetype": "text/x-python",
   "name": "python",
   "nbconvert_exporter": "python",
   "pygments_lexer": "ipython3",
   "version": "3.8.13"
  }
 },
 "nbformat": 4,
 "nbformat_minor": 5
}
