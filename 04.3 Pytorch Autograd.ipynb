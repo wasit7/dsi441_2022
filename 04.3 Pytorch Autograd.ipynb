{
 "cells": [
  {
   "cell_type": "markdown",
   "id": "1fc0db88",
   "metadata": {},
   "source": [
    "## Pytorch Autograd\n",
    "\n",
    "Trainging neural networks uses error back-propagation method and it requires gradient to adjust model parametes, also called \"gradient descent\", which needs the gradient of the loss function with respect to the given parameter $\\frac {\\partial L}{\\partial  \\theta}$.\n",
    "![https://pytorch.org/tutorials/beginner/basics/autogradqs_tutorial.html](comp-graph.png \"Title\")"
   ]
  },
  {
   "cell_type": "code",
   "execution_count": null,
   "id": "a2ccfb12",
   "metadata": {},
   "outputs": [],
   "source": [
    "import torch\n",
    "\n",
    "x = torch.ones(5)  # input tensor\n",
    "y = torch.zeros(3)  # expected output\n",
    "w = torch.randn(5, 3, requires_grad=True)\n",
    "b = torch.randn(3, requires_grad=True)\n",
    "z = torch.matmul(x, w)+b\n",
    "loss = torch.nn.functional.binary_cross_entropy_with_logits(z, y)"
   ]
  },
  {
   "cell_type": "code",
   "execution_count": null,
   "id": "880ab8a1",
   "metadata": {},
   "outputs": [],
   "source": []
  }
 ],
 "metadata": {
  "kernelspec": {
   "display_name": "Python 3 (ipykernel)",
   "language": "python",
   "name": "python3"
  },
  "language_info": {
   "codemirror_mode": {
    "name": "ipython",
    "version": 3
   },
   "file_extension": ".py",
   "mimetype": "text/x-python",
   "name": "python",
   "nbconvert_exporter": "python",
   "pygments_lexer": "ipython3",
   "version": "3.8.13"
  }
 },
 "nbformat": 4,
 "nbformat_minor": 5
}
