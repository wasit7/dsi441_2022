{
 "cells": [
  {
   "cell_type": "markdown",
   "id": "1fc0db88",
   "metadata": {},
   "source": [
    "## Pytorch Autograd\n",
    "\n",
    "Trainging neural networks uses error back-propagation method and it requires gradient to adjust model parametes, also called \"gradient descent\", which needs the gradient of the loss function with respect to the given parameter $\\frac {\\partial L}{\\partial  \\theta}$.\n",
    "![https://pytorch.org/tutorials/beginner/basics/autogradqs_tutorial.html](comp-graph.png \"Title\")"
   ]
  },
  {
   "cell_type": "code",
   "execution_count": 40,
   "id": "a2ccfb12",
   "metadata": {},
   "outputs": [],
   "source": [
    "import torch\n",
    "\n",
    "x = torch.ones(5)  # input tensor\n",
    "y = torch.zeros(3)  # expected output\n",
    "w = torch.randn(5, 3, requires_grad=True)\n",
    "b = torch.randn(3, requires_grad=True)\n",
    "z = torch.matmul(x, w)+b\n",
    "loss = torch.nn.functional.binary_cross_entropy_with_logits(z, y)"
   ]
  },
  {
   "cell_type": "code",
   "execution_count": 41,
   "id": "880ab8a1",
   "metadata": {},
   "outputs": [
    {
     "name": "stdout",
     "output_type": "stream",
     "text": [
      "Gradient function for z = <AddBackward0 object at 0x7f2989ad5220>\n",
      "Gradient function for loss = <BinaryCrossEntropyWithLogitsBackward0 object at 0x7f2989ad50d0>\n"
     ]
    }
   ],
   "source": [
    "print(f\"Gradient function for z = {z.grad_fn}\")\n",
    "print(f\"Gradient function for loss = {loss.grad_fn}\")"
   ]
  },
  {
   "cell_type": "code",
   "execution_count": 42,
   "id": "db623547",
   "metadata": {},
   "outputs": [
    {
     "name": "stdout",
     "output_type": "stream",
     "text": [
      "Gradient function for x = None\n"
     ]
    }
   ],
   "source": [
    "print(f\"Gradient function for x = {x.grad_fn}\")"
   ]
  },
  {
   "cell_type": "code",
   "execution_count": 43,
   "id": "60d0cc0f",
   "metadata": {},
   "outputs": [
    {
     "name": "stdout",
     "output_type": "stream",
     "text": [
      "Gradient function for y = None\n"
     ]
    }
   ],
   "source": [
    "print(f\"Gradient function for y = {y.grad_fn}\")"
   ]
  },
  {
   "cell_type": "code",
   "execution_count": 44,
   "id": "aff8ddcb",
   "metadata": {},
   "outputs": [
    {
     "name": "stdout",
     "output_type": "stream",
     "text": [
      "tensor([[0.0118, 0.2882, 0.2693],\n",
      "        [0.0118, 0.2882, 0.2693],\n",
      "        [0.0118, 0.2882, 0.2693],\n",
      "        [0.0118, 0.2882, 0.2693],\n",
      "        [0.0118, 0.2882, 0.2693]])\n",
      "tensor([0.0118, 0.2882, 0.2693])\n"
     ]
    }
   ],
   "source": [
    "loss.backward()\n",
    "print(w.grad)\n",
    "print(b.grad)"
   ]
  },
  {
   "cell_type": "code",
   "execution_count": 45,
   "id": "026beae4",
   "metadata": {},
   "outputs": [
    {
     "name": "stdout",
     "output_type": "stream",
     "text": [
      "True\n"
     ]
    }
   ],
   "source": [
    "z = torch.matmul(x, w)+b\n",
    "print(z.requires_grad)"
   ]
  },
  {
   "cell_type": "code",
   "execution_count": 46,
   "id": "867a709e",
   "metadata": {},
   "outputs": [
    {
     "name": "stdout",
     "output_type": "stream",
     "text": [
      "False\n"
     ]
    }
   ],
   "source": [
    "with torch.no_grad():\n",
    "    z = torch.matmul(x, w)+b\n",
    "print(z.requires_grad)"
   ]
  },
  {
   "cell_type": "code",
   "execution_count": 82,
   "id": "b49733b4",
   "metadata": {},
   "outputs": [
    {
     "name": "stdout",
     "output_type": "stream",
     "text": [
      "tensor(1.3036, grad_fn=<BinaryCrossEntropyWithLogitsBackward0>)\n",
      "tensor(1.3036, grad_fn=<BinaryCrossEntropyWithLogitsBackward0>)\n",
      "tensor(1.3036, grad_fn=<BinaryCrossEntropyWithLogitsBackward0>)\n",
      "tensor(1.3036, grad_fn=<BinaryCrossEntropyWithLogitsBackward0>)\n",
      "tensor(1.3036, grad_fn=<BinaryCrossEntropyWithLogitsBackward0>)\n",
      "tensor(1.3036, grad_fn=<BinaryCrossEntropyWithLogitsBackward0>)\n",
      "tensor(1.3036, grad_fn=<BinaryCrossEntropyWithLogitsBackward0>)\n",
      "tensor(1.3036, grad_fn=<BinaryCrossEntropyWithLogitsBackward0>)\n",
      "tensor(1.3036, grad_fn=<BinaryCrossEntropyWithLogitsBackward0>)\n",
      "tensor(1.3036, grad_fn=<BinaryCrossEntropyWithLogitsBackward0>)\n"
     ]
    }
   ],
   "source": [
    "import torch\n",
    "alpha=0.1\n",
    "\n",
    "x = torch.ones(5)  # input tensor\n",
    "y = torch.zeros(3)  # expected output\n",
    "w = torch.randn(5, 3, requires_grad=True)\n",
    "b = torch.randn(3, requires_grad=True)\n",
    "z = torch.matmul(x, w)+b\n",
    "\n",
    "for i in range(10):\n",
    "    loss = torch.nn.functional.binary_cross_entropy_with_logits(z, y)\n",
    "    print(loss)\n",
    "    loss.backward(retain_graph=True)\n",
    "    with torch.no_grad():\n",
    "        w.sub_(w.grad*alpha)\n",
    "        b.sub_(b.grad*alpha)\n",
    "        w.grad = None\n",
    "        b.grad = None"
   ]
  },
  {
   "cell_type": "code",
   "execution_count": 104,
   "id": "b3b48fba",
   "metadata": {},
   "outputs": [
    {
     "name": "stdout",
     "output_type": "stream",
     "text": [
      "tensor(0.8867, grad_fn=<BinaryCrossEntropyWithLogitsBackward0>)\n",
      "tensor(0.4407, grad_fn=<BinaryCrossEntropyWithLogitsBackward0>)\n",
      "tensor(0.2634, grad_fn=<BinaryCrossEntropyWithLogitsBackward0>)\n",
      "tensor(0.1822, grad_fn=<BinaryCrossEntropyWithLogitsBackward0>)\n",
      "tensor(0.1378, grad_fn=<BinaryCrossEntropyWithLogitsBackward0>)\n",
      "tensor(0.1102, grad_fn=<BinaryCrossEntropyWithLogitsBackward0>)\n",
      "tensor(0.0916, grad_fn=<BinaryCrossEntropyWithLogitsBackward0>)\n",
      "tensor(0.0782, grad_fn=<BinaryCrossEntropyWithLogitsBackward0>)\n",
      "tensor(0.0682, grad_fn=<BinaryCrossEntropyWithLogitsBackward0>)\n",
      "tensor(0.0604, grad_fn=<BinaryCrossEntropyWithLogitsBackward0>)\n"
     ]
    }
   ],
   "source": [
    "#https://medium.com/@mrityu.jha/understanding-the-grad-of-autograd-fc8d266fd6cf\n",
    "import torch\n",
    "alpha=0.1\n",
    "\n",
    "x = torch.ones(5)  # input tensor\n",
    "y = torch.zeros(3)  # expected output\n",
    "w = torch.randn(5, 3, requires_grad=True)\n",
    "b = torch.randn(3, requires_grad=True)\n",
    "\n",
    "n=100\n",
    "for i in range(n):\n",
    "    z = torch.matmul(x, w)+b\n",
    "    loss = torch.nn.functional.binary_cross_entropy_with_logits(z, y)\n",
    "    if i%(n/10)==0:\n",
    "        print(loss)\n",
    "    loss.backward(retain_graph=True)\n",
    "    with torch.no_grad():\n",
    "        w-=alpha*w.grad\n",
    "        w.grad = None\n",
    "        b-=alpha*b.grad\n",
    "        b.grad = None"
   ]
  },
  {
   "cell_type": "code",
   "execution_count": null,
   "id": "8a5b414b",
   "metadata": {},
   "outputs": [],
   "source": []
  }
 ],
 "metadata": {
  "kernelspec": {
   "display_name": "Python 3 (ipykernel)",
   "language": "python",
   "name": "python3"
  },
  "language_info": {
   "codemirror_mode": {
    "name": "ipython",
    "version": 3
   },
   "file_extension": ".py",
   "mimetype": "text/x-python",
   "name": "python",
   "nbconvert_exporter": "python",
   "pygments_lexer": "ipython3",
   "version": "3.8.13"
  }
 },
 "nbformat": 4,
 "nbformat_minor": 5
}
