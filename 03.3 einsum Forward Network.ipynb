{
 "cells": [
  {
   "cell_type": "code",
   "execution_count": 1,
   "id": "f8301ad7",
   "metadata": {},
   "outputs": [
    {
     "data": {
      "text/plain": [
       "[<matplotlib.lines.Line2D at 0x7fd4d7415ca0>]"
      ]
     },
     "execution_count": 1,
     "metadata": {},
     "output_type": "execute_result"
    },
    {
     "data": {
      "image/png": "[encoded data removed]",
      "text/plain": [
       "<Figure size 432x288 with 1 Axes>"
      ]
     },
     "metadata": {},
     "output_type": "display_data"
    }
   ],
   "source": [
    "%matplotlib inline\n",
    "import matplotlib.pyplot as plt\n",
    "import matplotlib.cm as cm\n",
    "plt.style.use('ggplot')\n",
    "import numpy as np\n",
    "N=200\n",
    "n=N//2\n",
    "#polar coordinate\n",
    "r1=8+np.random.randn(n)\n",
    "theta1=np.random.rand(n)*2.0*np.pi\n",
    "\n",
    "r2=2+np.random.randn(n)\n",
    "theta2=np.random.rand(n)*2.0*np.pi\n",
    "\n",
    "x1=np.concatenate( (r1*np.cos(theta1), r2*np.cos(theta2)))\n",
    "x2=np.concatenate( (r1*np.sin(theta1), r2*np.sin(theta2)))\n",
    "\n",
    "x=np.stack((x1,x2), axis = 1)\n",
    "yt=np.ones( (2*n,1))\n",
    "yt[n:]=-1\n",
    "plt.axis('equal')\n",
    "plt.plot(x[:,0][(yt==1)[:,0]],x[:,1][(yt==1)[:,0]],'.b')\n",
    "plt.plot(x[:,0][(yt==-1)[:,0]],x[:,1][(yt==-1)[:,0]],'.r')"
   ]
  },
  {
   "cell_type": "code",
   "execution_count": 2,
   "id": "ef27a54e",
   "metadata": {},
   "outputs": [],
   "source": [
    "w0=np.random.randn(2,3)\n",
    "b0=0\n",
    "w1=np.random.randn(3,1)\n",
    "b1=0\n",
    "\n",
    "a0=x\n",
    "z0=np.einsum('ik,kj',a0,w0)+b0\n",
    "f0=np.tanh(z0)\n",
    "\n",
    "a1=f0\n",
    "z1=np.einsum('ik,kj',a1,w1)+b1\n",
    "f1=np.tanh(z1)\n",
    "\n",
    "yp=f1\n"
   ]
  },
  {
   "cell_type": "code",
   "execution_count": 3,
   "id": "9b02f16a",
   "metadata": {},
   "outputs": [
    {
     "data": {
      "text/plain": [
       "(200, 3)"
      ]
     },
     "execution_count": 3,
     "metadata": {},
     "output_type": "execute_result"
    }
   ],
   "source": [
    "z0.shape"
   ]
  },
  {
   "cell_type": "code",
   "execution_count": 4,
   "id": "bb49f522",
   "metadata": {},
   "outputs": [
    {
     "data": {
      "text/plain": [
       "(200, 3)"
      ]
     },
     "execution_count": 4,
     "metadata": {},
     "output_type": "execute_result"
    }
   ],
   "source": [
    "(np.einsum('ik,kj',a0,w0)+b0).shape"
   ]
  },
  {
   "cell_type": "code",
   "execution_count": 5,
   "id": "dce1af9d",
   "metadata": {},
   "outputs": [
    {
     "data": {
      "text/plain": [
       "(200, 3)"
      ]
     },
     "execution_count": 5,
     "metadata": {},
     "output_type": "execute_result"
    }
   ],
   "source": [
    "(np.einsum('ik,kj->ij',a0,w0)+b0).shape"
   ]
  },
  {
   "cell_type": "code",
   "execution_count": 6,
   "id": "ebecf66e",
   "metadata": {},
   "outputs": [
    {
     "data": {
      "text/plain": [
       "(200, 1)"
      ]
     },
     "execution_count": 6,
     "metadata": {},
     "output_type": "execute_result"
    }
   ],
   "source": [
    "yp.shape"
   ]
  },
  {
   "cell_type": "markdown",
   "id": "88889fd8",
   "metadata": {},
   "source": [
    "$\\begin{eqnarray*}\n",
    "\\frac{\\partial L}{\\partial b1} &=&\\frac{\\partial L}{\\partial yp}\\frac{\\partial yp}{\\partial f1}\n",
    "\\frac{\\partial f1}{\\partial z1}\\frac{\\partial z1}{\\partial b1}\\\\\n",
    "&=&(yp-yt)(1)(1-f1^2)(1)\n",
    "\\end{eqnarray*}$"
   ]
  },
  {
   "cell_type": "markdown",
   "id": "60ec3bf7",
   "metadata": {},
   "source": [
    "$\\begin{eqnarray*}\n",
    "\\frac{\\partial L}{\\partial w1} &=&\\frac{\\partial L}{\\partial yp}\\frac{\\partial yp}{\\partial f1}\n",
    "\\frac{\\partial f1}{\\partial z1}\\frac{\\partial z1}{\\partial w1}\\\\\n",
    "&=&(yp-yt)(1)(1-f1^2)(a1)\n",
    "\\end{eqnarray*}$"
   ]
  },
  {
   "cell_type": "markdown",
   "id": "21ea22c4",
   "metadata": {},
   "source": [
    "$\\begin{eqnarray*}\n",
    "\\frac{\\partial L}{\\partial b0} &=&\\frac{\\partial L}{\\partial yp}\\frac{\\partial yp}{\\partial f1}\n",
    "\\frac{\\partial f1}{\\partial z1}\\frac{\\partial z1}{\\partial a1}\\frac{\\partial a1}{\\partial f0}\n",
    "\\frac{\\partial f0}{\\partial z0}\\frac{\\partial z0}{\\partial b0}\n",
    "\\\\\n",
    "&=&(yp-yt)(1)\n",
    "(1-f1^2)(w1)(1)\n",
    "(1-f0^2)(1)\n",
    "\\end{eqnarray*}$"
   ]
  },
  {
   "cell_type": "markdown",
   "id": "a2550b87",
   "metadata": {},
   "source": [
    "$\\begin{eqnarray*}\n",
    "\\frac{\\partial L}{\\partial b0} &=&\\frac{\\partial L}{\\partial yp}\\frac{\\partial yp}{\\partial f1}\n",
    "\\frac{\\partial f1}{\\partial z1}\\frac{\\partial z1}{\\partial a1}\\frac{\\partial a1}{\\partial f0}\n",
    "\\frac{\\partial f0}{\\partial z0}\\frac{\\partial z0}{\\partial w0}\n",
    "\\\\\n",
    "&=&(yp-yt)(1)\n",
    "(1-f1^2)(w1)(1)\n",
    "(1-f0^2)(a0)\n",
    "\\end{eqnarray*}$"
   ]
  },
  {
   "cell_type": "code",
   "execution_count": 7,
   "id": "8597900e",
   "metadata": {},
   "outputs": [
    {
     "data": {
      "text/plain": [
       "array([12.99177214])"
      ]
     },
     "execution_count": 7,
     "metadata": {},
     "output_type": "execute_result"
    }
   ],
   "source": [
    "dLdb1=np.einsum('Ni->i',(yp-yt)*(1-f1*f1))\n",
    "dLdb1"
   ]
  },
  {
   "cell_type": "code",
   "execution_count": 8,
   "id": "0554677a",
   "metadata": {},
   "outputs": [
    {
     "data": {
      "text/plain": [
       "array([[-23.63572171],\n",
       "       [ 18.90440055],\n",
       "       [ -9.04169439]])"
      ]
     },
     "execution_count": 8,
     "metadata": {},
     "output_type": "execute_result"
    }
   ],
   "source": [
    "# dLdw1=np.einsum('N1,N3->31',(yp-yt)*(1-f1*f1), a1)\n",
    "dLdw1=np.einsum('Ni,Nj->ji',(yp-yt)*(1-f1*f1), a1)\n",
    "dLdw1"
   ]
  },
  {
   "cell_type": "code",
   "execution_count": 9,
   "id": "6cdb90cc",
   "metadata": {},
   "outputs": [
    {
     "data": {
      "text/plain": [
       "array([-40.84971823,  -6.77948189,   9.60704731])"
      ]
     },
     "execution_count": 9,
     "metadata": {},
     "output_type": "execute_result"
    }
   ],
   "source": [
    "dz1da1=np.einsum('Ni,ji->Nj', (yp-yt)*(1-f1*f1), w1)\n",
    "dLdb0=np.einsum('Ni->i', dz1da1*(1)*(1-f0*f0) )\n",
    "dLdb0"
   ]
  },
  {
   "cell_type": "code",
   "execution_count": 10,
   "id": "b1b69537",
   "metadata": {},
   "outputs": [
    {
     "data": {
      "text/plain": [
       "array([[ 2.42367483,  1.33528536, -7.70971603],\n",
       "       [29.14871244,  2.65748766, -2.73928974]])"
      ]
     },
     "execution_count": 10,
     "metadata": {},
     "output_type": "execute_result"
    }
   ],
   "source": [
    "dz1da1=np.einsum('Ni,ji->Nj', (yp-yt)*(1-f1*f1), w1)\n",
    "dLdw0=np.einsum('Ni,Nj->ji', dz1da1*(1)*(1-f0*f0),a0 )\n",
    "dLdw0"
   ]
  },
  {
   "cell_type": "code",
   "execution_count": 15,
   "id": "e722bd82",
   "metadata": {},
   "outputs": [
    {
     "name": "stdout",
     "output_type": "stream",
     "text": [
      "Loss: 0.6850807087694111\n",
      "Loss: 0.6912010438415612\n",
      "Loss: 0.1900728155504921\n",
      "Loss: 0.23978278855080656\n",
      "Loss: 0.18410886834278264\n",
      "Loss: 0.2413406809832104\n",
      "Loss: 0.0220986832064058\n",
      "Loss: 0.0223643868603797\n",
      "Loss: 0.05883279897670083\n",
      "Loss: 0.052284646893195105\n"
     ]
    }
   ],
   "source": [
    "w0=np.random.randn(2,3)\n",
    "b0=np.random.randn(1)\n",
    "w1=np.random.randn(3,1)\n",
    "b1=np.random.randn(1)\n",
    "\n",
    "\n",
    "m=100\n",
    "alpha=0.03\n",
    "for i in range(m):\n",
    "    #forward\n",
    "    a0=x\n",
    "    z0=np.einsum('ik,kj',a0,w0)+b0\n",
    "    f0=np.tanh(z0)\n",
    "    a1=f0\n",
    "    z1=np.einsum('ik,kj',a1,w1)+b1\n",
    "    f1=np.tanh(z1)\n",
    "    yp=f1\n",
    "    L=0.5*np.average((yp-yt)*(yp-yt))\n",
    "    if i%(m//10)==0:\n",
    "        print(\"Loss: %s\"%L)\n",
    "        #print(\" w0:%s, b0:%s, w1:%s, b1:%s \"%(w0,b0,w1,b1) )\n",
    "        \n",
    "    #back propagation\n",
    "    dLdb1=np.einsum('Ni->i',(yp-yt)*(1-f1*f1))\n",
    "    dLdw1=np.einsum('Ni,Nj->ji',(yp-yt)*(1-f1*f1), a1)\n",
    "    dz1da1=np.einsum('Ni,ji->Nj', (yp-yt)*(1-f1*f1), w1)\n",
    "    dLdb0=np.einsum('Ni->i', dz1da1*(1)*(1-f0*f0) )\n",
    "    dLdw0=np.einsum('Ni,Nj->ji', dz1da1*(1)*(1-f0*f0),a0 )\n",
    "    \n",
    "    b1=b1-alpha*dLdb1\n",
    "    w1=w1-alpha*dLdw1\n",
    "    b0=b0-alpha*dLdb0\n",
    "    w0=w0-alpha*dLdw0"
   ]
  },
  {
   "cell_type": "code",
   "execution_count": 16,
   "id": "4303de08",
   "metadata": {},
   "outputs": [
    {
     "data": {
      "text/plain": [
       "[<matplotlib.lines.Line2D at 0x7fd4d29f2100>]"
      ]
     },
     "execution_count": 16,
     "metadata": {},
     "output_type": "execute_result"
    },
    {
     "data": {
      "image/png": "[encoded data removed]",
      "text/plain": [
       "<Figure size 864x720 with 2 Axes>"
      ]
     },
     "metadata": {},
     "output_type": "display_data"
    }
   ],
   "source": [
    "my,mx=np.mgrid[slice(-10,10,0.1),slice(-10,10,0.1)]\n",
    "out=np.zeros(mx.shape)\n",
    "for i in range(mx.shape[0]):\n",
    "    for j in range(mx.shape[1]):\n",
    "        u=[[ mx[i,j], my[i,j]]]\n",
    "        #forward\n",
    "        a0=u\n",
    "        z0=np.einsum('ik,kj',a0,w0)+b0\n",
    "        f0=np.tanh(z0)\n",
    "        a1=f0\n",
    "        z1=np.einsum('ik,kj',a1,w1)+b1\n",
    "        f1=np.tanh(z1)\n",
    "        yp=f1\n",
    "        out[i,j]=yp\n",
    "plt.figure(figsize=(12,10))\n",
    "plt.pcolor(mx,my,out,cmap=cm.PuOr)\n",
    "plt.colorbar()\n",
    "plt.axis('equal')\n",
    "plt.plot(x1[(yt==1)[:,0]],x2[(yt==1)[:,0]],'ob')\n",
    "plt.plot(x1[(yt==-1)[:,0]],x2[(yt==-1)[:,0]],'or')"
   ]
  },
  {
   "cell_type": "code",
   "execution_count": null,
   "id": "ebcb2932",
   "metadata": {},
   "outputs": [],
   "source": []
  }
 ],
 "metadata": {
  "kernelspec": {
   "display_name": "Python 3 (ipykernel)",
   "language": "python",
   "name": "python3"
  },
  "language_info": {
   "codemirror_mode": {
    "name": "ipython",
    "version": 3
   },
   "file_extension": ".py",
   "mimetype": "text/x-python",
   "name": "python",
   "nbconvert_exporter": "python",
   "pygments_lexer": "ipython3",
   "version": "3.8.13"
  }
 },
 "nbformat": 4,
 "nbformat_minor": 5
}
