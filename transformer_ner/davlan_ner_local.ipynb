{
 "cells": [
  {
   "cell_type": "markdown",
   "id": "1bb75bba",
   "metadata": {},
   "source": [
    "## setup\n",
    "\n",
    "install the following packages:\n",
    "\n",
    "```sh\n",
    "$conda create -n transformers python=3.8\n",
    "$conda activate transformers -y\n",
    "$conda install notebook -y\n",
    "$conda install pytorch torchvision torchaudio cpuonly -c pytorch -y\n",
    "$conda install protobuf -y\n",
    "$pip install transformers -y\n",
    "$pip install sentencepiece -y\n",
    "$jupyter notebook\n",
    "```"
   ]
  },
  {
   "cell_type": "code",
   "execution_count": 9,
   "id": "70dab986",
   "metadata": {},
   "outputs": [],
   "source": [
    "from transformers import AutoTokenizer, AutoModelForTokenClassification\n",
    "from transformers import pipeline\n",
    "tokenizer = AutoTokenizer.from_pretrained(\"Davlan/xlm-roberta-base-ner-hrl\")\n",
    "model = AutoModelForTokenClassification.from_pretrained(\"Davlan/xlm-roberta-base-ner-hrl\")\n",
    "nlp = pipeline(\"ner\", model=model, tokenizer=tokenizer)"
   ]
  },
  {
   "cell_type": "code",
   "execution_count": 10,
   "id": "7a65b412",
   "metadata": {},
   "outputs": [
    {
     "name": "stdout",
     "output_type": "stream",
     "text": [
      "[{'entity': 'B-PER', 'score': 0.99971396, 'index': 5, 'word': 'ช', 'start': 14, 'end': 15}, {'entity': 'I-PER', 'score': 0.789148, 'index': 6, 'word': 'ัช', 'start': 15, 'end': 17}, {'entity': 'I-PER', 'score': 0.9986553, 'index': 7, 'word': 'ชาติ', 'start': 17, 'end': 21}, {'entity': 'B-PER', 'score': 0.999908, 'index': 12, 'word': 'อาร์', 'start': 38, 'end': 42}, {'entity': 'I-PER', 'score': 0.999183, 'index': 13, 'word': 'มัน', 'start': 42, 'end': 45}, {'entity': 'I-PER', 'score': 0.99951684, 'index': 14, 'word': '▁อิ', 'start': 45, 'end': 48}, {'entity': 'I-PER', 'score': 0.99980634, 'index': 15, 'word': 'ส', 'start': 48, 'end': 49}, {'entity': 'I-PER', 'score': 0.9998294, 'index': 16, 'word': 'เซ', 'start': 49, 'end': 51}, {'entity': 'I-PER', 'score': 0.9997702, 'index': 17, 'word': 'ทอ', 'start': 51, 'end': 53}, {'entity': 'I-PER', 'score': 0.9996202, 'index': 18, 'word': 'ฟ', 'start': 53, 'end': 54}, {'entity': 'B-LOC', 'score': 0.93023634, 'index': 26, 'word': 'สาธารณ', 'start': 68, 'end': 74}, {'entity': 'B-LOC', 'score': 0.96965563, 'index': 28, 'word': 'คา', 'start': 77, 'end': 79}, {'entity': 'I-LOC', 'score': 0.9952832, 'index': 29, 'word': 'ซ', 'start': 79, 'end': 80}, {'entity': 'I-LOC', 'score': 0.998323, 'index': 30, 'word': 'ั', 'start': 80, 'end': 81}, {'entity': 'I-LOC', 'score': 0.99878806, 'index': 31, 'word': 'ค', 'start': 81, 'end': 82}, {'entity': 'I-LOC', 'score': 0.99557424, 'index': 32, 'word': 'สถาน', 'start': 82, 'end': 86}, {'entity': 'B-LOC', 'score': 0.9864871, 'index': 34, 'word': 'ประเทศไทย', 'start': 91, 'end': 100}, {'entity': 'B-LOC', 'score': 0.96181315, 'index': 47, 'word': 'กรุงเทพมหานคร', 'start': 149, 'end': 162}, {'entity': 'B-LOC', 'score': 0.9984478, 'index': 49, 'word': 'กรุง', 'start': 165, 'end': 169}, {'entity': 'I-LOC', 'score': 0.931985, 'index': 50, 'word': 'นู', 'start': 169, 'end': 171}, {'entity': 'I-LOC', 'score': 0.9996772, 'index': 51, 'word': 'ร์', 'start': 171, 'end': 173}, {'entity': 'I-LOC', 'score': 0.9997496, 'index': 52, 'word': '-', 'start': 173, 'end': 174}, {'entity': 'I-LOC', 'score': 0.99969673, 'index': 53, 'word': 'สุ', 'start': 174, 'end': 176}, {'entity': 'I-LOC', 'score': 0.99977475, 'index': 54, 'word': 'ล', 'start': 176, 'end': 177}, {'entity': 'I-LOC', 'score': 0.9996524, 'index': 55, 'word': 'ต', 'start': 177, 'end': 178}, {'entity': 'I-LOC', 'score': 0.9996916, 'index': 56, 'word': '่า', 'start': 178, 'end': 180}, {'entity': 'I-LOC', 'score': 0.99953187, 'index': 57, 'word': 'น', 'start': 180, 'end': 181}, {'entity': 'B-PER', 'score': 0.99991155, 'index': 60, 'word': 'โจ', 'start': 191, 'end': 193}, {'entity': 'I-PER', 'score': 0.999699, 'index': 61, 'word': 'นา', 'start': 193, 'end': 195}, {'entity': 'I-PER', 'score': 0.99980384, 'index': 62, 'word': 'ธา', 'start': 195, 'end': 197}, {'entity': 'I-PER', 'score': 0.9997142, 'index': 63, 'word': 'น', 'start': 197, 'end': 198}, {'entity': 'I-PER', 'score': 0.9997881, 'index': 64, 'word': '▁', 'start': 198, 'end': 199}, {'entity': 'I-PER', 'score': 0.99981886, 'index': 65, 'word': 'เด', 'start': 199, 'end': 201}, {'entity': 'I-PER', 'score': 0.9998355, 'index': 66, 'word': 'ล', 'start': 201, 'end': 202}, {'entity': 'I-PER', 'score': 0.9998234, 'index': 67, 'word': '▁ค', 'start': 202, 'end': 204}, {'entity': 'I-PER', 'score': 0.99977595, 'index': 68, 'word': 'ิง', 'start': 204, 'end': 206}, {'entity': 'I-PER', 'score': 0.9997955, 'index': 69, 'word': 'ส์', 'start': 206, 'end': 208}, {'entity': 'B-LOC', 'score': 0.9992729, 'index': 77, 'word': 'นิว', 'start': 222, 'end': 225}, {'entity': 'I-LOC', 'score': 0.9993709, 'index': 78, 'word': 'ซี', 'start': 225, 'end': 227}, {'entity': 'I-LOC', 'score': 0.9991503, 'index': 79, 'word': 'แลนด์', 'start': 227, 'end': 232}, {'entity': 'B-LOC', 'score': 0.9779946, 'index': 81, 'word': 'ประเทศไทย', 'start': 237, 'end': 246}]\n"
     ]
    }
   ],
   "source": [
    "example=\"ในช่วงบ่าย นายชัชชาติ ให้การต้อนรับนายอาร์มัน อิสเซทอฟ เอกอัครราชทูตสาธารณรัฐคาซัคสถานประจำประเทศไทย ในโอกาสเข้าเยี่ยมคารวะและหารือความร่วมมือระหว่างกรุงเทพมหานครและกรุงนูร์-สุลต่าน รวมถึงนายโจนาธาน เดล คิงส์ เอกอัครราชทูตนิวซีแลนด์ประจำประเทศไทยในวันเดียวกัน\"\n",
    "ner_results = nlp(example)\n",
    "print(ner_results)"
   ]
  },
  {
   "cell_type": "code",
   "execution_count": null,
   "id": "baa687eb",
   "metadata": {},
   "outputs": [],
   "source": []
  }
 ],
 "metadata": {
  "kernelspec": {
   "display_name": "Python 3 (ipykernel)",
   "language": "python",
   "name": "python3"
  },
  "language_info": {
   "codemirror_mode": {
    "name": "ipython",
    "version": 3
   },
   "file_extension": ".py",
   "mimetype": "text/x-python",
   "name": "python",
   "nbconvert_exporter": "python",
   "pygments_lexer": "ipython3",
   "version": "3.8.15"
  }
 },
 "nbformat": 4,
 "nbformat_minor": 5
}
