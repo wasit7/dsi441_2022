{
  "nbformat": 4,
  "nbformat_minor": 0,
  "metadata": {
    "colab": {
      "provenance": []
    },
    "kernelspec": {
      "name": "python3",
      "display_name": "Python 3"
    },
    "language_info": {
      "name": "python"
    },
    "widgets": {
      "application/vnd.jupyter.widget-state+json": {
        "3dbfacc62cc045cba01d960e758b89d9": {
          "model_module": "@jupyter-widgets/controls",
          "model_name": "HBoxModel",
          "model_module_version": "1.5.0",
          "state": {
            "_dom_classes": [],
            "_model_module": "@jupyter-widgets/controls",
            "_model_module_version": "1.5.0",
            "_model_name": "HBoxModel",
            "_view_count": null,
            "_view_module": "@jupyter-widgets/controls",
            "_view_module_version": "1.5.0",
            "_view_name": "HBoxView",
            "box_style": "",
            "children": [
              "IPY_MODEL_90fff25837914fdbab1acdde3fedd656",
              "IPY_MODEL_b8ce28a42f7f499d8c3fda4cd06b0aa0",
              "IPY_MODEL_79e8491efb0f46d1a99ca60bf706218e"
            ],
            "layout": "IPY_MODEL_d655f46beb3f45ffa1f7edcf67b20a77"
          }
        },
        "90fff25837914fdbab1acdde3fedd656": {
          "model_module": "@jupyter-widgets/controls",
          "model_name": "HTMLModel",
          "model_module_version": "1.5.0",
          "state": {
            "_dom_classes": [],
            "_model_module": "@jupyter-widgets/controls",
            "_model_module_version": "1.5.0",
            "_model_name": "HTMLModel",
            "_view_count": null,
            "_view_module": "@jupyter-widgets/controls",
            "_view_module_version": "1.5.0",
            "_view_name": "HTMLView",
            "description": "",
            "description_tooltip": null,
            "layout": "IPY_MODEL_133349f892e24bb1bcfb0f6cb7c15c72",
            "placeholder": "​",
            "style": "IPY_MODEL_5f2f1300c2c74022b4f651b2fe76c148",
            "value": "Downloading: 100%"
          }
        },
        "b8ce28a42f7f499d8c3fda4cd06b0aa0": {
          "model_module": "@jupyter-widgets/controls",
          "model_name": "FloatProgressModel",
          "model_module_version": "1.5.0",
          "state": {
            "_dom_classes": [],
            "_model_module": "@jupyter-widgets/controls",
            "_model_module_version": "1.5.0",
            "_model_name": "FloatProgressModel",
            "_view_count": null,
            "_view_module": "@jupyter-widgets/controls",
            "_view_module_version": "1.5.0",
            "_view_name": "ProgressView",
            "bar_style": "success",
            "description": "",
            "description_tooltip": null,
            "layout": "IPY_MODEL_ce05cd3fcd7d47788279a8f6b99c2eb7",
            "max": 1109929655,
            "min": 0,
            "orientation": "horizontal",
            "style": "IPY_MODEL_49a44cd8d7c643d6bd5369103db6905b",
            "value": 1109929655
          }
        },
        "79e8491efb0f46d1a99ca60bf706218e": {
          "model_module": "@jupyter-widgets/controls",
          "model_name": "HTMLModel",
          "model_module_version": "1.5.0",
          "state": {
            "_dom_classes": [],
            "_model_module": "@jupyter-widgets/controls",
            "_model_module_version": "1.5.0",
            "_model_name": "HTMLModel",
            "_view_count": null,
            "_view_module": "@jupyter-widgets/controls",
            "_view_module_version": "1.5.0",
            "_view_name": "HTMLView",
            "description": "",
            "description_tooltip": null,
            "layout": "IPY_MODEL_d4fb07d98955456fbff42a6508924406",
            "placeholder": "​",
            "style": "IPY_MODEL_4469ff3d424d4a3da2a02be947acb824",
            "value": " 1.11G/1.11G [00:33&lt;00:00, 48.1MB/s]"
          }
        },
        "d655f46beb3f45ffa1f7edcf67b20a77": {
          "model_module": "@jupyter-widgets/base",
          "model_name": "LayoutModel",
          "model_module_version": "1.2.0",
          "state": {
            "_model_module": "@jupyter-widgets/base",
            "_model_module_version": "1.2.0",
            "_model_name": "LayoutModel",
            "_view_count": null,
            "_view_module": "@jupyter-widgets/base",
            "_view_module_version": "1.2.0",
            "_view_name": "LayoutView",
            "align_content": null,
            "align_items": null,
            "align_self": null,
            "border": null,
            "bottom": null,
            "display": null,
            "flex": null,
            "flex_flow": null,
            "grid_area": null,
            "grid_auto_columns": null,
            "grid_auto_flow": null,
            "grid_auto_rows": null,
            "grid_column": null,
            "grid_gap": null,
            "grid_row": null,
            "grid_template_areas": null,
            "grid_template_columns": null,
            "grid_template_rows": null,
            "height": null,
            "justify_content": null,
            "justify_items": null,
            "left": null,
            "margin": null,
            "max_height": null,
            "max_width": null,
            "min_height": null,
            "min_width": null,
            "object_fit": null,
            "object_position": null,
            "order": null,
            "overflow": null,
            "overflow_x": null,
            "overflow_y": null,
            "padding": null,
            "right": null,
            "top": null,
            "visibility": null,
            "width": null
          }
        },
        "133349f892e24bb1bcfb0f6cb7c15c72": {
          "model_module": "@jupyter-widgets/base",
          "model_name": "LayoutModel",
          "model_module_version": "1.2.0",
          "state": {
            "_model_module": "@jupyter-widgets/base",
            "_model_module_version": "1.2.0",
            "_model_name": "LayoutModel",
            "_view_count": null,
            "_view_module": "@jupyter-widgets/base",
            "_view_module_version": "1.2.0",
            "_view_name": "LayoutView",
            "align_content": null,
            "align_items": null,
            "align_self": null,
            "border": null,
            "bottom": null,
            "display": null,
            "flex": null,
            "flex_flow": null,
            "grid_area": null,
            "grid_auto_columns": null,
            "grid_auto_flow": null,
            "grid_auto_rows": null,
            "grid_column": null,
            "grid_gap": null,
            "grid_row": null,
            "grid_template_areas": null,
            "grid_template_columns": null,
            "grid_template_rows": null,
            "height": null,
            "justify_content": null,
            "justify_items": null,
            "left": null,
            "margin": null,
            "max_height": null,
            "max_width": null,
            "min_height": null,
            "min_width": null,
            "object_fit": null,
            "object_position": null,
            "order": null,
            "overflow": null,
            "overflow_x": null,
            "overflow_y": null,
            "padding": null,
            "right": null,
            "top": null,
            "visibility": null,
            "width": null
          }
        },
        "5f2f1300c2c74022b4f651b2fe76c148": {
          "model_module": "@jupyter-widgets/controls",
          "model_name": "DescriptionStyleModel",
          "model_module_version": "1.5.0",
          "state": {
            "_model_module": "@jupyter-widgets/controls",
            "_model_module_version": "1.5.0",
            "_model_name": "DescriptionStyleModel",
            "_view_count": null,
            "_view_module": "@jupyter-widgets/base",
            "_view_module_version": "1.2.0",
            "_view_name": "StyleView",
            "description_width": ""
          }
        },
        "ce05cd3fcd7d47788279a8f6b99c2eb7": {
          "model_module": "@jupyter-widgets/base",
          "model_name": "LayoutModel",
          "model_module_version": "1.2.0",
          "state": {
            "_model_module": "@jupyter-widgets/base",
            "_model_module_version": "1.2.0",
            "_model_name": "LayoutModel",
            "_view_count": null,
            "_view_module": "@jupyter-widgets/base",
            "_view_module_version": "1.2.0",
            "_view_name": "LayoutView",
            "align_content": null,
            "align_items": null,
            "align_self": null,
            "border": null,
            "bottom": null,
            "display": null,
            "flex": null,
            "flex_flow": null,
            "grid_area": null,
            "grid_auto_columns": null,
            "grid_auto_flow": null,
            "grid_auto_rows": null,
            "grid_column": null,
            "grid_gap": null,
            "grid_row": null,
            "grid_template_areas": null,
            "grid_template_columns": null,
            "grid_template_rows": null,
            "height": null,
            "justify_content": null,
            "justify_items": null,
            "left": null,
            "margin": null,
            "max_height": null,
            "max_width": null,
            "min_height": null,
            "min_width": null,
            "object_fit": null,
            "object_position": null,
            "order": null,
            "overflow": null,
            "overflow_x": null,
            "overflow_y": null,
            "padding": null,
            "right": null,
            "top": null,
            "visibility": null,
            "width": null
          }
        },
        "49a44cd8d7c643d6bd5369103db6905b": {
          "model_module": "@jupyter-widgets/controls",
          "model_name": "ProgressStyleModel",
          "model_module_version": "1.5.0",
          "state": {
            "_model_module": "@jupyter-widgets/controls",
            "_model_module_version": "1.5.0",
            "_model_name": "ProgressStyleModel",
            "_view_count": null,
            "_view_module": "@jupyter-widgets/base",
            "_view_module_version": "1.2.0",
            "_view_name": "StyleView",
            "bar_color": null,
            "description_width": ""
          }
        },
        "d4fb07d98955456fbff42a6508924406": {
          "model_module": "@jupyter-widgets/base",
          "model_name": "LayoutModel",
          "model_module_version": "1.2.0",
          "state": {
            "_model_module": "@jupyter-widgets/base",
            "_model_module_version": "1.2.0",
            "_model_name": "LayoutModel",
            "_view_count": null,
            "_view_module": "@jupyter-widgets/base",
            "_view_module_version": "1.2.0",
            "_view_name": "LayoutView",
            "align_content": null,
            "align_items": null,
            "align_self": null,
            "border": null,
            "bottom": null,
            "display": null,
            "flex": null,
            "flex_flow": null,
            "grid_area": null,
            "grid_auto_columns": null,
            "grid_auto_flow": null,
            "grid_auto_rows": null,
            "grid_column": null,
            "grid_gap": null,
            "grid_row": null,
            "grid_template_areas": null,
            "grid_template_columns": null,
            "grid_template_rows": null,
            "height": null,
            "justify_content": null,
            "justify_items": null,
            "left": null,
            "margin": null,
            "max_height": null,
            "max_width": null,
            "min_height": null,
            "min_width": null,
            "object_fit": null,
            "object_position": null,
            "order": null,
            "overflow": null,
            "overflow_x": null,
            "overflow_y": null,
            "padding": null,
            "right": null,
            "top": null,
            "visibility": null,
            "width": null
          }
        },
        "4469ff3d424d4a3da2a02be947acb824": {
          "model_module": "@jupyter-widgets/controls",
          "model_name": "DescriptionStyleModel",
          "model_module_version": "1.5.0",
          "state": {
            "_model_module": "@jupyter-widgets/controls",
            "_model_module_version": "1.5.0",
            "_model_name": "DescriptionStyleModel",
            "_view_count": null,
            "_view_module": "@jupyter-widgets/base",
            "_view_module_version": "1.2.0",
            "_view_name": "StyleView",
            "description_width": ""
          }
        }
      }
    }
  },
  "cells": [
    {
      "cell_type": "code",
      "execution_count": null,
      "metadata": {
        "id": "PJ2zJIAel8kq"
      },
      "outputs": [],
      "source": [
        "!pip install transformers"
      ]
    },
    {
      "cell_type": "code",
      "source": [
        "!pip install sentencepiece"
      ],
      "metadata": {
        "id": "bi_qCw9am1-Q"
      },
      "execution_count": null,
      "outputs": []
    },
    {
      "cell_type": "code",
      "source": [
        "from transformers import AutoTokenizer, AutoModelForTokenClassification\n",
        "from transformers import pipeline\n",
        "tokenizer = AutoTokenizer.from_pretrained(\"Davlan/xlm-roberta-base-ner-hrl\")\n",
        "model = AutoModelForTokenClassification.from_pretrained(\"Davlan/xlm-roberta-base-ner-hrl\")\n",
        "nlp = pipeline(\"ner\", model=model, tokenizer=tokenizer)\n",
        "example = \"Nader Jokhadar had given Syria the lead with a well-struck header in the seventh minute.\"\n",
        "ner_results = nlp(example)\n",
        "print(ner_results)"
      ],
      "metadata": {
        "colab": {
          "base_uri": "https://localhost:8080/",
          "height": 86,
          "referenced_widgets": [
            "3dbfacc62cc045cba01d960e758b89d9",
            "90fff25837914fdbab1acdde3fedd656",
            "b8ce28a42f7f499d8c3fda4cd06b0aa0",
            "79e8491efb0f46d1a99ca60bf706218e",
            "d655f46beb3f45ffa1f7edcf67b20a77",
            "133349f892e24bb1bcfb0f6cb7c15c72",
            "5f2f1300c2c74022b4f651b2fe76c148",
            "ce05cd3fcd7d47788279a8f6b99c2eb7",
            "49a44cd8d7c643d6bd5369103db6905b",
            "d4fb07d98955456fbff42a6508924406",
            "4469ff3d424d4a3da2a02be947acb824"
          ]
        },
        "id": "Yqdl2ANvmPbr",
        "outputId": "06867679-5980-4ecb-f7c1-07f372c9dd88"
      },
      "execution_count": 3,
      "outputs": [
        {
          "output_type": "display_data",
          "data": {
            "text/plain": [
              "Downloading:   0%|          | 0.00/1.11G [00:00<?, ?B/s]"
            ],
            "application/vnd.jupyter.widget-view+json": {
              "version_major": 2,
              "version_minor": 0,
              "model_id": "3dbfacc62cc045cba01d960e758b89d9"
            }
          },
          "metadata": {}
        },
        {
          "output_type": "stream",
          "name": "stdout",
          "text": [
            "[{'entity': 'B-PER', 'score': 0.9998417, 'index': 1, 'word': '▁Na', 'start': 0, 'end': 2}, {'entity': 'I-PER', 'score': 0.88056296, 'index': 2, 'word': 'der', 'start': 2, 'end': 5}, {'entity': 'I-PER', 'score': 0.999816, 'index': 3, 'word': '▁Jo', 'start': 5, 'end': 8}, {'entity': 'I-PER', 'score': 0.9998022, 'index': 4, 'word': 'kha', 'start': 8, 'end': 11}, {'entity': 'I-PER', 'score': 0.99975294, 'index': 5, 'word': 'dar', 'start': 11, 'end': 14}, {'entity': 'B-LOC', 'score': 0.99962485, 'index': 8, 'word': '▁Syria', 'start': 24, 'end': 30}]\n"
          ]
        }
      ]
    },
    {
      "cell_type": "code",
      "source": [
        "example=\"ในช่วงบ่าย นายชัชชาติ ให้การต้อนรับนายอาร์มัน อิสเซทอฟ เอกอัครราชทูตสาธารณรัฐคาซัคสถานประจำประเทศไทย ในโอกาสเข้าเยี่ยมคารวะและหารือความร่วมมือระหว่างกรุงเทพมหานครและกรุงนูร์-สุลต่าน รวมถึงนายโจนาธาน เดล คิงส์ เอกอัครราชทูตนิวซีแลนด์ประจำประเทศไทยในวันเดียวกัน\"\n",
        "ner_results = nlp(example)\n",
        "print(ner_results)"
      ],
      "metadata": {
        "colab": {
          "base_uri": "https://localhost:8080/",
          "height": 0
        },
        "id": "Aw8_xPMJmT8J",
        "outputId": "25e14e8e-52fd-497e-b68e-dfbb90c231ea"
      },
      "execution_count": 6,
      "outputs": [
        {
          "output_type": "stream",
          "name": "stdout",
          "text": [
            "[{'entity': 'B-PER', 'score': 0.99971396, 'index': 5, 'word': 'ช', 'start': 14, 'end': 15}, {'entity': 'I-PER', 'score': 0.789148, 'index': 6, 'word': 'ัช', 'start': 15, 'end': 17}, {'entity': 'I-PER', 'score': 0.9986553, 'index': 7, 'word': 'ชาติ', 'start': 17, 'end': 21}, {'entity': 'B-PER', 'score': 0.999908, 'index': 12, 'word': 'อาร์', 'start': 38, 'end': 42}, {'entity': 'I-PER', 'score': 0.999183, 'index': 13, 'word': 'มัน', 'start': 42, 'end': 45}, {'entity': 'I-PER', 'score': 0.99951684, 'index': 14, 'word': '▁อิ', 'start': 45, 'end': 48}, {'entity': 'I-PER', 'score': 0.99980634, 'index': 15, 'word': 'ส', 'start': 48, 'end': 49}, {'entity': 'I-PER', 'score': 0.9998294, 'index': 16, 'word': 'เซ', 'start': 49, 'end': 51}, {'entity': 'I-PER', 'score': 0.9997702, 'index': 17, 'word': 'ทอ', 'start': 51, 'end': 53}, {'entity': 'I-PER', 'score': 0.9996202, 'index': 18, 'word': 'ฟ', 'start': 53, 'end': 54}, {'entity': 'B-LOC', 'score': 0.93023634, 'index': 26, 'word': 'สาธารณ', 'start': 68, 'end': 74}, {'entity': 'B-LOC', 'score': 0.96965563, 'index': 28, 'word': 'คา', 'start': 77, 'end': 79}, {'entity': 'I-LOC', 'score': 0.9952832, 'index': 29, 'word': 'ซ', 'start': 79, 'end': 80}, {'entity': 'I-LOC', 'score': 0.998323, 'index': 30, 'word': 'ั', 'start': 80, 'end': 81}, {'entity': 'I-LOC', 'score': 0.99878806, 'index': 31, 'word': 'ค', 'start': 81, 'end': 82}, {'entity': 'I-LOC', 'score': 0.99557424, 'index': 32, 'word': 'สถาน', 'start': 82, 'end': 86}, {'entity': 'B-LOC', 'score': 0.9864871, 'index': 34, 'word': 'ประเทศไทย', 'start': 91, 'end': 100}, {'entity': 'B-LOC', 'score': 0.96181315, 'index': 47, 'word': 'กรุงเทพมหานคร', 'start': 149, 'end': 162}, {'entity': 'B-LOC', 'score': 0.9984478, 'index': 49, 'word': 'กรุง', 'start': 165, 'end': 169}, {'entity': 'I-LOC', 'score': 0.931985, 'index': 50, 'word': 'นู', 'start': 169, 'end': 171}, {'entity': 'I-LOC', 'score': 0.9996772, 'index': 51, 'word': 'ร์', 'start': 171, 'end': 173}, {'entity': 'I-LOC', 'score': 0.9997496, 'index': 52, 'word': '-', 'start': 173, 'end': 174}, {'entity': 'I-LOC', 'score': 0.99969673, 'index': 53, 'word': 'สุ', 'start': 174, 'end': 176}, {'entity': 'I-LOC', 'score': 0.99977475, 'index': 54, 'word': 'ล', 'start': 176, 'end': 177}, {'entity': 'I-LOC', 'score': 0.9996524, 'index': 55, 'word': 'ต', 'start': 177, 'end': 178}, {'entity': 'I-LOC', 'score': 0.9996916, 'index': 56, 'word': '่า', 'start': 178, 'end': 180}, {'entity': 'I-LOC', 'score': 0.99953187, 'index': 57, 'word': 'น', 'start': 180, 'end': 181}, {'entity': 'B-PER', 'score': 0.99991155, 'index': 60, 'word': 'โจ', 'start': 191, 'end': 193}, {'entity': 'I-PER', 'score': 0.999699, 'index': 61, 'word': 'นา', 'start': 193, 'end': 195}, {'entity': 'I-PER', 'score': 0.99980384, 'index': 62, 'word': 'ธา', 'start': 195, 'end': 197}, {'entity': 'I-PER', 'score': 0.9997142, 'index': 63, 'word': 'น', 'start': 197, 'end': 198}, {'entity': 'I-PER', 'score': 0.9997881, 'index': 64, 'word': '▁', 'start': 198, 'end': 199}, {'entity': 'I-PER', 'score': 0.99981886, 'index': 65, 'word': 'เด', 'start': 199, 'end': 201}, {'entity': 'I-PER', 'score': 0.9998355, 'index': 66, 'word': 'ล', 'start': 201, 'end': 202}, {'entity': 'I-PER', 'score': 0.9998234, 'index': 67, 'word': '▁ค', 'start': 202, 'end': 204}, {'entity': 'I-PER', 'score': 0.99977595, 'index': 68, 'word': 'ิง', 'start': 204, 'end': 206}, {'entity': 'I-PER', 'score': 0.9997955, 'index': 69, 'word': 'ส์', 'start': 206, 'end': 208}, {'entity': 'B-LOC', 'score': 0.9992729, 'index': 77, 'word': 'นิว', 'start': 222, 'end': 225}, {'entity': 'I-LOC', 'score': 0.9993709, 'index': 78, 'word': 'ซี', 'start': 225, 'end': 227}, {'entity': 'I-LOC', 'score': 0.9991503, 'index': 79, 'word': 'แลนด์', 'start': 227, 'end': 232}, {'entity': 'B-LOC', 'score': 0.9779946, 'index': 81, 'word': 'ประเทศไทย', 'start': 237, 'end': 246}]\n"
          ]
        }
      ]
    },
    {
      "cell_type": "code",
      "source": [],
      "metadata": {
        "id": "Serxmp4DnieS"
      },
      "execution_count": 4,
      "outputs": []
    }
  ]
}