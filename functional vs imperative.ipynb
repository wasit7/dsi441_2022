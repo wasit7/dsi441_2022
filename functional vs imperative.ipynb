{
 "cells": [
  {
   "cell_type": "code",
   "execution_count": 1,
   "id": "e3001538",
   "metadata": {},
   "outputs": [
    {
     "name": "stdout",
     "output_type": "stream",
     "text": [
      "sum:  15\n"
     ]
    }
   ],
   "source": [
    "#Imperative Programming\n",
    "d = [1, 2, 3, 4, 5]\n",
    "sum = 0\n",
    "for x in d:\n",
    "    sum += x\n",
    "print('sum: ',sum)"
   ]
  },
  {
   "cell_type": "code",
   "execution_count": 2,
   "id": "46e1af9a",
   "metadata": {},
   "outputs": [
    {
     "name": "stdout",
     "output_type": "stream",
     "text": [
      "sum:  15\n"
     ]
    }
   ],
   "source": [
    "#Functional Programming\n",
    "from functools import reduce\n",
    "d = [1, 2, 3, 4, 5]\n",
    "sum = reduce(lambda x, y: x + y, d)\n",
    "print('sum: ',sum)"
   ]
  },
  {
   "cell_type": "code",
   "execution_count": null,
   "id": "2a8dedaf",
   "metadata": {},
   "outputs": [],
   "source": []
  }
 ],
 "metadata": {
  "kernelspec": {
   "display_name": "Python 3 (ipykernel)",
   "language": "python",
   "name": "python3"
  },
  "language_info": {
   "codemirror_mode": {
    "name": "ipython",
    "version": 3
   },
   "file_extension": ".py",
   "mimetype": "text/x-python",
   "name": "python",
   "nbconvert_exporter": "python",
   "pygments_lexer": "ipython3",
   "version": "3.8.13"
  }
 },
 "nbformat": 4,
 "nbformat_minor": 5
}
