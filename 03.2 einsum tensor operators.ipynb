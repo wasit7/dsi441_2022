{
 "cells": [
  {
   "cell_type": "markdown",
   "id": "34736a27",
   "metadata": {},
   "source": [
    "## 1D eisum operations"
   ]
  },
  {
   "cell_type": "markdown",
   "id": "9a516009",
   "metadata": {},
   "source": [
    "| subscripts | numpy | Description |\n",
    "| :--- | :--- | :--- |\n",
    "|`('i', A)`|`A`|returns a view of A|\n",
    "|`('i->', A)`|`sum(A)`|\tsums the values of A|\n",
    "|`('i,i->i', A, B)`|`A * B`|element-wise multiplication of A and B|\n",
    "|`('i,i', A, B)`|`inner(A, B)`|inner product of A and B|\n",
    "|`('i,j->ij', A, B)`|`outer(A, B)`|outer product of A and B|"
   ]
  },
  {
   "cell_type": "markdown",
   "id": "00d6016c",
   "metadata": {},
   "source": [
    "## 2D eisum operations"
   ]
  },
  {
   "cell_type": "markdown",
   "id": "5f40ce44",
   "metadata": {},
   "source": [
    "| subscripts | numpy | Description |\n",
    "| :--- | :--- | :--- |\n",
    "|`('ij', A)`|`A`|\treturns a view of A|\n",
    "|`('ji', A)`|`A.T`|\tview transpose of A|\n",
    "|`('ii->i', A)`|`diag(A)`|view main diagonal of A|\n",
    "|`('ii', A)`|`trace(A)`|sums main diagonal of A|\n",
    "|`('ij->', A)`|`sum(A)`|sums the values of A|\n",
    "|`('ij->j', A)`|`sum(A, axis=0)`|sum down the columns of A (across rows)|\n",
    "|`('ij->i', A)`|`sum(A, axis=1)`|sum horizontally along the rows of A|\n",
    "|`('ij,ij->ij', A, B)`|`A * B`|element-wise multiplication of A and B|\n",
    "|`('ij,ji->ij', A, B)`|`A * B.T`|element-wise multiplication of A and B.T|\n",
    "|`('ij,jk', A, B)`|`dot(A, B)`|\tmatrix multiplication of A and B|\n",
    "|`('ij,kj->ik', A, B)`|`inner(A, B)`|\tinner product of A and B|\n",
    "|`('ij,kj->ikj', A, B)`|`A[:, None] * B`|each row of A multiplied by B|\n",
    "|`('ij,kl->ijkl', A, B)`|`A[:, :, None, None] * B`|\teach value of A multiplied by B|"
   ]
  },
  {
   "cell_type": "code",
   "execution_count": null,
   "id": "f799b3cf",
   "metadata": {},
   "outputs": [],
   "source": []
  }
 ],
 "metadata": {
  "kernelspec": {
   "display_name": "Python 3 (ipykernel)",
   "language": "python",
   "name": "python3"
  },
  "language_info": {
   "codemirror_mode": {
    "name": "ipython",
    "version": 3
   },
   "file_extension": ".py",
   "mimetype": "text/x-python",
   "name": "python",
   "nbconvert_exporter": "python",
   "pygments_lexer": "ipython3",
   "version": "3.8.13"
  }
 },
 "nbformat": 4,
 "nbformat_minor": 5
}
