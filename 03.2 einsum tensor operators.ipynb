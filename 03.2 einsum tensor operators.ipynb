{
 "cells": [
  {
   "cell_type": "markdown",
   "id": "34736a27",
   "metadata": {},
   "source": [
    "## 1D eisum operations"
   ]
  },
  {
   "cell_type": "markdown",
   "id": "9a516009",
   "metadata": {},
   "source": [
    "| subscripts | numpy | Description |\n",
    "| :--- | :--- | :--- |\n",
    "|`('i', A)`|`A`|returns a view of A|\n",
    "|`('i->', A)`|`sum(A)`|\tsums the values of A|\n",
    "|`('i,i->i', A, B)`|`A * B`|element-wise multiplication of A and B|\n",
    "|`('i,i', A, B)`|`inner(A, B)`|inner product of A and B|\n",
    "|`('i,j->ij', A, B)`|`outer(A, B)`|outer product of A and B|"
   ]
  },
  {
   "cell_type": "code",
   "execution_count": 2,
   "id": "67062877",
   "metadata": {},
   "outputs": [
    {
     "data": {
      "text/plain": [
       "array([1, 2, 3])"
      ]
     },
     "execution_count": 2,
     "metadata": {},
     "output_type": "execute_result"
    }
   ],
   "source": [
    "import numpy as np\n",
    "a=np.array([1,2,3])\n",
    "np.einsum('i',a)"
   ]
  },
  {
   "cell_type": "code",
   "execution_count": 3,
   "id": "765d4d05",
   "metadata": {},
   "outputs": [
    {
     "data": {
      "text/plain": [
       "6"
      ]
     },
     "execution_count": 3,
     "metadata": {},
     "output_type": "execute_result"
    }
   ],
   "source": [
    "np.einsum('i->',a)"
   ]
  },
  {
   "cell_type": "code",
   "execution_count": 5,
   "id": "951387a0",
   "metadata": {},
   "outputs": [
    {
     "data": {
      "text/plain": [
       "array([ 2,  6, 12])"
      ]
     },
     "execution_count": 5,
     "metadata": {},
     "output_type": "execute_result"
    }
   ],
   "source": [
    "a=np.array([1,2,3])\n",
    "np.einsum('i,i->i',a,b)"
   ]
  },
  {
   "cell_type": "code",
   "execution_count": 14,
   "id": "14b4094a",
   "metadata": {},
   "outputs": [
    {
     "data": {
      "text/plain": [
       "0.9999999999999998"
      ]
     },
     "execution_count": 14,
     "metadata": {},
     "output_type": "execute_result"
    }
   ],
   "source": [
    "a=np.array([1/np.sqrt(2),1/np.sqrt(2)])\n",
    "b=np.array([1/np.sqrt(2),1/np.sqrt(2)])\n",
    "np.dot(a,b)"
   ]
  },
  {
   "cell_type": "code",
   "execution_count": 16,
   "id": "bf7a2250",
   "metadata": {},
   "outputs": [
    {
     "data": {
      "text/plain": [
       "0.9999999999999998"
      ]
     },
     "execution_count": 16,
     "metadata": {},
     "output_type": "execute_result"
    }
   ],
   "source": [
    "np.einsum('i,i',a,b)"
   ]
  },
  {
   "cell_type": "code",
   "execution_count": 19,
   "id": "063acef5",
   "metadata": {},
   "outputs": [
    {
     "data": {
      "text/plain": [
       "array([[ 2,  3,  4],\n",
       "       [ 4,  6,  8],\n",
       "       [ 6,  9, 12]])"
      ]
     },
     "execution_count": 19,
     "metadata": {},
     "output_type": "execute_result"
    }
   ],
   "source": [
    "a=np.array([1,2,3])\n",
    "b=np.array([2,3,4])\n",
    "np.einsum('i,j->ij',a,b)"
   ]
  },
  {
   "cell_type": "markdown",
   "id": "00d6016c",
   "metadata": {},
   "source": [
    "## 2D eisum operations"
   ]
  },
  {
   "cell_type": "markdown",
   "id": "5f40ce44",
   "metadata": {},
   "source": [
    "| subscripts | numpy | Description |\n",
    "| :--- | :--- | :--- |\n",
    "|`('ij', A)`|`A`|\treturns a view of A|\n",
    "|`('ji', A)`|`A.T`|\tview transpose of A|\n",
    "|`('ii->i', A)`|`diag(A)`|view main diagonal of A|\n",
    "|`('ii', A)`|`trace(A)`|sums main diagonal of A|\n",
    "|`('ij->', A)`|`sum(A)`|sums the values of A|\n",
    "|`('ij->j', A)`|`sum(A, axis=0)`|sum down the columns of A (across rows)|\n",
    "|`('ij->i', A)`|`sum(A, axis=1)`|sum horizontally along the rows of A|\n",
    "|`('ij,ij->ij', A, B)`|`A * B`|element-wise multiplication of A and B|\n",
    "|`('ij,ji->ij', A, B)`|`A * B.T`|element-wise multiplication of A and B.T|\n",
    "|`('ij,jk', A, B)`|`dot(A, B)`|\tmatrix multiplication of A and B|\n",
    "|`('ij,kj->ik', A, B)`|`inner(A, B)`|\tinner product of A and B|\n",
    "|`('ij,kj->ikj', A, B)`|`A[:, None] * B`|each row of A multiplied by B|\n",
    "|`('ij,kl->ijkl', A, B)`|`A[:, :, None, None] * B`|\teach value of A multiplied by B|"
   ]
  },
  {
   "cell_type": "code",
   "execution_count": 20,
   "id": "f799b3cf",
   "metadata": {},
   "outputs": [
    {
     "data": {
      "text/plain": [
       "array([[1, 2, 3],\n",
       "       [2, 3, 4]])"
      ]
     },
     "execution_count": 20,
     "metadata": {},
     "output_type": "execute_result"
    }
   ],
   "source": [
    "a=np.array([[1,2,3],[2,3,4]])\n",
    "a"
   ]
  },
  {
   "cell_type": "code",
   "execution_count": 21,
   "id": "1f8e7f2a",
   "metadata": {},
   "outputs": [
    {
     "data": {
      "text/plain": [
       "array([[1, 2, 3],\n",
       "       [2, 3, 4]])"
      ]
     },
     "execution_count": 21,
     "metadata": {},
     "output_type": "execute_result"
    }
   ],
   "source": [
    "#('ij', A)\tA\treturns a view of A\n",
    "np.einsum('ij', a)"
   ]
  },
  {
   "cell_type": "code",
   "execution_count": 22,
   "id": "e6925ceb",
   "metadata": {},
   "outputs": [
    {
     "data": {
      "text/plain": [
       "array([[1, 2],\n",
       "       [2, 3],\n",
       "       [3, 4]])"
      ]
     },
     "execution_count": 22,
     "metadata": {},
     "output_type": "execute_result"
    }
   ],
   "source": [
    "#('ji', A)\tA.T\tview transpose of A\n",
    "np.einsum('ji', a)"
   ]
  },
  {
   "cell_type": "code",
   "execution_count": 31,
   "id": "4b2709b9",
   "metadata": {},
   "outputs": [
    {
     "data": {
      "text/plain": [
       "array([[1, 2, 3],\n",
       "       [1, 3, 4],\n",
       "       [3, 4, 5]])"
      ]
     },
     "execution_count": 31,
     "metadata": {},
     "output_type": "execute_result"
    }
   ],
   "source": [
    "#('ii->i', A)\tdiag(A)\tview main diagonal of A\n",
    "a=np.array([[1,2,3],[1,3,4],[3,4,5]])\n",
    "a"
   ]
  },
  {
   "cell_type": "code",
   "execution_count": 32,
   "id": "39ce2819",
   "metadata": {},
   "outputs": [
    {
     "data": {
      "text/plain": [
       "array([1, 3, 5])"
      ]
     },
     "execution_count": 32,
     "metadata": {},
     "output_type": "execute_result"
    }
   ],
   "source": [
    "np.einsum('ii->i', a)"
   ]
  },
  {
   "cell_type": "code",
   "execution_count": 33,
   "id": "ddb520e0",
   "metadata": {},
   "outputs": [
    {
     "data": {
      "text/plain": [
       "9"
      ]
     },
     "execution_count": 33,
     "metadata": {},
     "output_type": "execute_result"
    }
   ],
   "source": [
    "#('ii', A)\ttrace(A)\tsums main diagonal of A\n",
    "np.einsum('ii', a)"
   ]
  },
  {
   "cell_type": "code",
   "execution_count": 34,
   "id": "c1ceeafe",
   "metadata": {},
   "outputs": [
    {
     "data": {
      "text/plain": [
       "26"
      ]
     },
     "execution_count": 34,
     "metadata": {},
     "output_type": "execute_result"
    }
   ],
   "source": [
    "#('ij->', A)\tsum(A)\tsums the values of A\n",
    "np.einsum('ij->', a)"
   ]
  },
  {
   "cell_type": "code",
   "execution_count": 35,
   "id": "f4c3f9e5",
   "metadata": {},
   "outputs": [
    {
     "data": {
      "text/plain": [
       "array([ 5,  9, 12])"
      ]
     },
     "execution_count": 35,
     "metadata": {},
     "output_type": "execute_result"
    }
   ],
   "source": [
    "#('ij->j', A)\tsum(A, axis=0)\tsum down the columns of A (across rows)\n",
    "np.einsum('ij->j', a)"
   ]
  },
  {
   "cell_type": "code",
   "execution_count": 36,
   "id": "36fac39e",
   "metadata": {},
   "outputs": [
    {
     "data": {
      "text/plain": [
       "array([ 6,  8, 12])"
      ]
     },
     "execution_count": 36,
     "metadata": {},
     "output_type": "execute_result"
    }
   ],
   "source": [
    "#('ij->i', A)\tsum(A, axis=1)\tsum horizontally along the rows of A\n",
    "np.einsum('ij->i', a)"
   ]
  },
  {
   "cell_type": "code",
   "execution_count": 41,
   "id": "c266f40f",
   "metadata": {},
   "outputs": [
    {
     "name": "stdout",
     "output_type": "stream",
     "text": [
      "[[1 2]\n",
      " [3 4]]\n",
      "[[5 6]\n",
      " [7 8]]\n"
     ]
    }
   ],
   "source": [
    "#('ij,ij->ij', A, B)\tA * B\telement-wise multiplication of A and B\n",
    "a=np.array([[1,2],[3,4]])\n",
    "b=np.array([[5,6],[7,8]])\n",
    "print(a)\n",
    "print(b)"
   ]
  },
  {
   "cell_type": "code",
   "execution_count": 42,
   "id": "e9ebf102",
   "metadata": {},
   "outputs": [
    {
     "data": {
      "text/plain": [
       "array([[ 5, 12],\n",
       "       [21, 32]])"
      ]
     },
     "execution_count": 42,
     "metadata": {},
     "output_type": "execute_result"
    }
   ],
   "source": [
    "np.einsum('ij,ij->ij', a,b)"
   ]
  },
  {
   "cell_type": "code",
   "execution_count": 43,
   "id": "ab6e54b7",
   "metadata": {},
   "outputs": [
    {
     "data": {
      "text/plain": [
       "array([[ 5, 14],\n",
       "       [18, 32]])"
      ]
     },
     "execution_count": 43,
     "metadata": {},
     "output_type": "execute_result"
    }
   ],
   "source": [
    "#('ij,ji->ij', A, B)\tA * B.T\telement-wise multiplication of A and B.T\n",
    "np.einsum('ij,ji->ij', a,b)"
   ]
  },
  {
   "cell_type": "code",
   "execution_count": 45,
   "id": "2375b1e5",
   "metadata": {},
   "outputs": [
    {
     "data": {
      "text/plain": [
       "69"
      ]
     },
     "execution_count": 45,
     "metadata": {},
     "output_type": "execute_result"
    }
   ],
   "source": [
    "#('ij,jk', A, B)\tdot(A, B)\tmatrix multiplication of A and B\n",
    "np.einsum('ij,ji->', a,b)"
   ]
  },
  {
   "cell_type": "code",
   "execution_count": 46,
   "id": "a2b19a08",
   "metadata": {},
   "outputs": [
    {
     "data": {
      "text/plain": [
       "array([[17, 23],\n",
       "       [39, 53]])"
      ]
     },
     "execution_count": 46,
     "metadata": {},
     "output_type": "execute_result"
    }
   ],
   "source": [
    "#('ij,kj->ik', A, B)\tinner(A, B)\tinner product of A and B\n",
    "np.einsum('ij,kj->ik', a,b)"
   ]
  },
  {
   "cell_type": "code",
   "execution_count": null,
   "id": "95a98a62",
   "metadata": {},
   "outputs": [],
   "source": [
    "#('ij,kj->ikj', A, B)\tA[:, None] * B\teach row of A multiplied by B\n"
   ]
  },
  {
   "cell_type": "code",
   "execution_count": null,
   "id": "828b4111",
   "metadata": {},
   "outputs": [],
   "source": [
    "#('ij,kl->ijkl', A, B)\tA[:, :, None, None] * B"
   ]
  }
 ],
 "metadata": {
  "kernelspec": {
   "display_name": "Python 3 (ipykernel)",
   "language": "python",
   "name": "python3"
  },
  "language_info": {
   "codemirror_mode": {
    "name": "ipython",
    "version": 3
   },
   "file_extension": ".py",
   "mimetype": "text/x-python",
   "name": "python",
   "nbconvert_exporter": "python",
   "pygments_lexer": "ipython3",
   "version": "3.8.13"
  }
 },
 "nbformat": 4,
 "nbformat_minor": 5
}
