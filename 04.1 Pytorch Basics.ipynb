{
 "cells": [
  {
   "cell_type": "markdown",
   "id": "7c8d7eda",
   "metadata": {},
   "source": [
    "## Installation\n",
    "\n",
    "```bash\n",
    "$ git clone https://github.com/wasit7/dsi441_2022.git\n",
    "$ conda create -n dsi441_2022 python=3.8\n",
    "$ conda activate dsi441_2022\n",
    "$ conda install -c conda-forge pytorch-cpu\n",
    "$ pip install numpy matplotlib Pillow\n",
    "$ pip install jupyterlab\n",
    "$ jupyter notebook\n",
    "```"
   ]
  },
  {
   "cell_type": "code",
   "execution_count": 1,
   "id": "783f6603",
   "metadata": {},
   "outputs": [
    {
     "data": {
      "text/plain": [
       "False"
      ]
     },
     "execution_count": 1,
     "metadata": {},
     "output_type": "execute_result"
    }
   ],
   "source": [
    "import torch\n",
    "torch.cuda.is_available()"
   ]
  },
  {
   "cell_type": "code",
   "execution_count": null,
   "id": "fc9f1e7c",
   "metadata": {},
   "outputs": [],
   "source": []
  }
 ],
 "metadata": {
  "kernelspec": {
   "display_name": "Python 3 (ipykernel)",
   "language": "python",
   "name": "python3"
  },
  "language_info": {
   "codemirror_mode": {
    "name": "ipython",
    "version": 3
   },
   "file_extension": ".py",
   "mimetype": "text/x-python",
   "name": "python",
   "nbconvert_exporter": "python",
   "pygments_lexer": "ipython3",
   "version": "3.8.13"
  }
 },
 "nbformat": 4,
 "nbformat_minor": 5
}
